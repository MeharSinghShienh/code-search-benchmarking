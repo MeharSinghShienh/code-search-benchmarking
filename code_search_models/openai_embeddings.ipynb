{
 "cells": [
  {
   "cell_type": "code",
   "execution_count": null,
   "metadata": {},
   "outputs": [
    {
     "name": "stdout",
     "output_type": "stream",
     "text": [
      "Defaulting to user installation because normal site-packages is not writeable\n",
      "Requirement already satisfied: openai==0.27.7 in c:\\users\\mehar\\appdata\\roaming\\python\\python311\\site-packages (from openai[embeddings]==0.27.7) (0.27.7)\n",
      "Requirement already satisfied: requests>=2.20 in c:\\programdata\\anaconda3\\lib\\site-packages (from openai==0.27.7->openai[embeddings]==0.27.7) (2.31.0)\n",
      "Requirement already satisfied: tqdm in c:\\programdata\\anaconda3\\lib\\site-packages (from openai==0.27.7->openai[embeddings]==0.27.7) (4.65.0)\n",
      "Requirement already satisfied: aiohttp in c:\\programdata\\anaconda3\\lib\\site-packages (from openai==0.27.7->openai[embeddings]==0.27.7) (3.8.3)\n",
      "Requirement already satisfied: scikit-learn>=1.0.2 in c:\\programdata\\anaconda3\\lib\\site-packages (from openai[embeddings]==0.27.7) (1.3.0)\n",
      "Requirement already satisfied: tenacity>=8.0.1 in c:\\programdata\\anaconda3\\lib\\site-packages (from openai[embeddings]==0.27.7) (8.2.2)\n",
      "Requirement already satisfied: matplotlib in c:\\programdata\\anaconda3\\lib\\site-packages (from openai[embeddings]==0.27.7) (3.7.1)\n",
      "Requirement already satisfied: plotly in c:\\programdata\\anaconda3\\lib\\site-packages (from openai[embeddings]==0.27.7) (5.9.0)\n",
      "Requirement already satisfied: numpy in c:\\users\\mehar\\appdata\\roaming\\python\\python311\\site-packages (from openai[embeddings]==0.27.7) (1.26.2)\n",
      "Requirement already satisfied: scipy in c:\\programdata\\anaconda3\\lib\\site-packages (from openai[embeddings]==0.27.7) (1.10.1)\n",
      "Requirement already satisfied: pandas>=1.2.3 in c:\\programdata\\anaconda3\\lib\\site-packages (from openai[embeddings]==0.27.7) (1.5.3)\n",
      "Requirement already satisfied: pandas-stubs>=1.1.0.11 in c:\\users\\mehar\\appdata\\roaming\\python\\python311\\site-packages (from openai[embeddings]==0.27.7) (2.1.1.230928)\n",
      "Requirement already satisfied: openpyxl>=3.0.7 in c:\\programdata\\anaconda3\\lib\\site-packages (from openai[embeddings]==0.27.7) (3.0.10)\n",
      "Requirement already satisfied: et_xmlfile in c:\\programdata\\anaconda3\\lib\\site-packages (from openpyxl>=3.0.7->openai[embeddings]==0.27.7) (1.1.0)\n",
      "Requirement already satisfied: python-dateutil>=2.8.1 in c:\\programdata\\anaconda3\\lib\\site-packages (from pandas>=1.2.3->openai[embeddings]==0.27.7) (2.8.2)\n",
      "Requirement already satisfied: pytz>=2020.1 in c:\\programdata\\anaconda3\\lib\\site-packages (from pandas>=1.2.3->openai[embeddings]==0.27.7) (2022.7)\n",
      "Requirement already satisfied: types-pytz>=2022.1.1 in c:\\users\\mehar\\appdata\\roaming\\python\\python311\\site-packages (from pandas-stubs>=1.1.0.11->openai[embeddings]==0.27.7) (2023.3.1.1)\n",
      "Requirement already satisfied: charset-normalizer<4,>=2 in c:\\programdata\\anaconda3\\lib\\site-packages (from requests>=2.20->openai==0.27.7->openai[embeddings]==0.27.7) (2.0.4)\n",
      "Requirement already satisfied: idna<4,>=2.5 in c:\\programdata\\anaconda3\\lib\\site-packages (from requests>=2.20->openai==0.27.7->openai[embeddings]==0.27.7) (3.4)\n",
      "Requirement already satisfied: urllib3<3,>=1.21.1 in c:\\programdata\\anaconda3\\lib\\site-packages (from requests>=2.20->openai==0.27.7->openai[embeddings]==0.27.7) (1.26.16)\n",
      "Requirement already satisfied: certifi>=2017.4.17 in c:\\programdata\\anaconda3\\lib\\site-packages (from requests>=2.20->openai==0.27.7->openai[embeddings]==0.27.7) (2023.7.22)\n",
      "Requirement already satisfied: joblib>=1.1.1 in c:\\programdata\\anaconda3\\lib\\site-packages (from scikit-learn>=1.0.2->openai[embeddings]==0.27.7) (1.2.0)\n",
      "Requirement already satisfied: threadpoolctl>=2.0.0 in c:\\programdata\\anaconda3\\lib\\site-packages (from scikit-learn>=1.0.2->openai[embeddings]==0.27.7) (2.2.0)\n",
      "Requirement already satisfied: attrs>=17.3.0 in c:\\programdata\\anaconda3\\lib\\site-packages (from aiohttp->openai==0.27.7->openai[embeddings]==0.27.7) (22.1.0)\n",
      "Requirement already satisfied: multidict<7.0,>=4.5 in c:\\programdata\\anaconda3\\lib\\site-packages (from aiohttp->openai==0.27.7->openai[embeddings]==0.27.7) (6.0.2)\n",
      "Requirement already satisfied: async-timeout<5.0,>=4.0.0a3 in c:\\programdata\\anaconda3\\lib\\site-packages (from aiohttp->openai==0.27.7->openai[embeddings]==0.27.7) (4.0.2)\n",
      "Requirement already satisfied: yarl<2.0,>=1.0 in c:\\programdata\\anaconda3\\lib\\site-packages (from aiohttp->openai==0.27.7->openai[embeddings]==0.27.7) (1.8.1)\n",
      "Requirement already satisfied: frozenlist>=1.1.1 in c:\\programdata\\anaconda3\\lib\\site-packages (from aiohttp->openai==0.27.7->openai[embeddings]==0.27.7) (1.3.3)\n",
      "Requirement already satisfied: aiosignal>=1.1.2 in c:\\programdata\\anaconda3\\lib\\site-packages (from aiohttp->openai==0.27.7->openai[embeddings]==0.27.7) (1.2.0)\n",
      "Requirement already satisfied: contourpy>=1.0.1 in c:\\programdata\\anaconda3\\lib\\site-packages (from matplotlib->openai[embeddings]==0.27.7) (1.0.5)\n",
      "Requirement already satisfied: cycler>=0.10 in c:\\programdata\\anaconda3\\lib\\site-packages (from matplotlib->openai[embeddings]==0.27.7) (0.11.0)\n",
      "Requirement already satisfied: fonttools>=4.22.0 in c:\\programdata\\anaconda3\\lib\\site-packages (from matplotlib->openai[embeddings]==0.27.7) (4.25.0)\n",
      "Requirement already satisfied: kiwisolver>=1.0.1 in c:\\programdata\\anaconda3\\lib\\site-packages (from matplotlib->openai[embeddings]==0.27.7) (1.4.4)\n",
      "Requirement already satisfied: packaging>=20.0 in c:\\programdata\\anaconda3\\lib\\site-packages (from matplotlib->openai[embeddings]==0.27.7) (23.0)\n",
      "Requirement already satisfied: pillow>=6.2.0 in c:\\programdata\\anaconda3\\lib\\site-packages (from matplotlib->openai[embeddings]==0.27.7) (9.4.0)\n",
      "Requirement already satisfied: pyparsing>=2.3.1 in c:\\programdata\\anaconda3\\lib\\site-packages (from matplotlib->openai[embeddings]==0.27.7) (3.0.9)\n",
      "Requirement already satisfied: colorama in c:\\programdata\\anaconda3\\lib\\site-packages (from tqdm->openai==0.27.7->openai[embeddings]==0.27.7) (0.4.6)\n",
      "Requirement already satisfied: six>=1.5 in c:\\programdata\\anaconda3\\lib\\site-packages (from python-dateutil>=2.8.1->pandas>=1.2.3->openai[embeddings]==0.27.7) (1.16.0)\n"
     ]
    }
   ],
   "source": [
    "!pip install openai[embeddings]==0.27.7\n",
    "\n",
    "import numpy as np\n",
    "from tqdm import tqdm\n",
    "from data_utils import create_dataset, create_loader\n",
    "\n",
    "import openai\n",
    "#enter openai api key\n",
    "openai.api_key = (\"\")\n",
    "\n",
    "from openai.embeddings_utils import get_embedding"
   ]
  },
  {
   "cell_type": "code",
   "execution_count": 6,
   "metadata": {},
   "outputs": [],
   "source": [
    "def get_feats(data_loader, desc='Get feats'):\n",
    "    embeds = []\n",
    "    max_len = 0\n",
    "    max_token_length = 29120\n",
    "\n",
    "    for text in tqdm(data_loader, total=len(data_loader), desc=desc):\n",
    "\n",
    "        for txt in text:\n",
    "            if (len(txt) > max_len):\n",
    "                max_len = len(txt)\n",
    "            txt = txt[0:max_token_length]\n",
    "            embed = get_embedding(txt, engine='text-embedding-ada-002')\n",
    "            embeds.append(embed)\n",
    "\n",
    "    return embeds\n",
    "\n",
    "\n",
    "def contrast_evaluation(text_embeds, code_embeds, img2txt):\n",
    "    text_embeds = np.array(text_embeds)\n",
    "    code_embeds = np.array(code_embeds)\n",
    "    score_matrix_i2t = text_embeds @ code_embeds.T\n",
    "    scores_i2t = score_matrix_i2t\n",
    "\n",
    "    ranks = np.ones(scores_i2t.shape[0]) * -1\n",
    "\n",
    "    for index, score in enumerate(scores_i2t):\n",
    "        inds = np.argsort(score)[::-1]\n",
    "        ranks[index] = np.where(inds == img2txt[index])[0][0]\n",
    "\n",
    "\n",
    "    # Compute metrics\n",
    "    tr1 = 100.0 * len(np.where(ranks < 1)[0]) / len(ranks)\n",
    "    tr5 = 100.0 * len(np.where(ranks < 5)[0]) / len(ranks)\n",
    "    tr10 = 100.0 * len(np.where(ranks < 10)[0]) / len(ranks)\n",
    "    mrr = 100.0 * np.mean(1 / (ranks + 1))\n",
    "\n",
    "\n",
    "    eval_result = {'r1': tr1,\n",
    "                   'r5': tr5,\n",
    "                   'r10': tr10,\n",
    "                   'mrr': mrr}\n",
    "    return eval_result"
   ]
  },
  {
   "cell_type": "code",
   "execution_count": null,
   "metadata": {},
   "outputs": [
    {
     "name": "stdout",
     "output_type": "stream",
     "text": [
      "\n",
      "Creating retrieval dataset\n",
      "Read 24927 data from ./dataset/CSN/ruby/train.jsonl\n",
      "Read 1400 data from ./dataset/CSN/ruby/valid.jsonl\n",
      "Read 4360 data from ./dataset/CSN/ruby/codebase.jsonl\n",
      "Read 1261 data from ./dataset/CSN/ruby/test.jsonl\n",
      "Read 4360 data from ./dataset/CSN/ruby/codebase.jsonl\n",
      "Read 4360 data from ./dataset/CSN/ruby/codebase.jsonl\n",
      "\n",
      "Start zero-shot evaluation...\n"
     ]
    },
    {
     "name": "stderr",
     "output_type": "stream",
     "text": [
      "Get text feats: 100%|██████████████████████████████████████████████████████████████████| 10/10 [04:44<00:00, 28.48s/it]\n",
      "Get code feats:   3%|█▉                                                                 | 1/35 [00:47<26:39, 47.04s/it]"
     ]
    }
   ],
   "source": [
    "print(\"\\nCreating retrieval dataset\")\n",
    "#change language and path to dataset here\n",
    "_, _, test_dataset, code_dataset = create_dataset('dataset/CSN', 'ruby')\n",
    "\n",
    "test_loader, code_loader = create_loader([test_dataset, code_dataset], [None, None],\n",
    "                                         batch_size=[128, 128],\n",
    "                                         num_workers=[4, 4], is_trains=[False, False], collate_fns=[None, None])\n",
    "\n",
    "\n",
    "print('\\nStart zero-shot evaluation...')\n",
    "\n",
    "text_embeds = get_feats(test_loader, desc='Get text feats')\n",
    "code_embeds = get_feats(code_loader, desc='Get code feats')\n",
    "test_result = contrast_evaluation(text_embeds, code_embeds, test_loader.dataset.text2code)\n",
    "\n",
    "print(f'\\n====> zero-shot test result: ', test_result)"
   ]
  },
  {
   "cell_type": "code",
   "execution_count": null,
   "metadata": {},
   "outputs": [],
   "source": []
  }
 ],
 "metadata": {
  "kernelspec": {
   "display_name": "Python 3 (ipykernel)",
   "language": "python",
   "name": "python3"
  },
  "language_info": {
   "codemirror_mode": {
    "name": "ipython",
    "version": 3
   },
   "file_extension": ".py",
   "mimetype": "text/x-python",
   "name": "python",
   "nbconvert_exporter": "python",
   "pygments_lexer": "ipython3",
   "version": "3.11.4"
  }
 },
 "nbformat": 4,
 "nbformat_minor": 2
}
